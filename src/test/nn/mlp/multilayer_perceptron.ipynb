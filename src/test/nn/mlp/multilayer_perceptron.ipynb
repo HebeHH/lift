{
 "cells": [
  {
   "cell_type": "code",
   "execution_count": null,
   "metadata": {
    "collapsed": true
   },
   "outputs": [],
   "source": [
    "'''\n",
    "A Multilayer Perceptron implementation example using TensorFlow library.\n",
    "This example is using the MNIST database of handwritten digits\n",
    "(http://yann.lecun.com/exdb/mnist/)\n",
    "\n",
    "Author: Aymeric Damien\n",
    "Project: https://github.com/aymericdamien/TensorFlow-Examples/\n",
    "'''"
   ]
  },
  {
   "cell_type": "code",
   "execution_count": 1,
   "metadata": {
    "collapsed": false,
    "init_cell": true
   },
   "outputs": [
    {
     "name": "stdout",
     "output_type": "stream",
     "text": [
      "Extracting /tmp/data/train-images-idx3-ubyte.gz\n",
      "Extracting /tmp/data/train-labels-idx1-ubyte.gz\n",
      "Extracting /tmp/data/t10k-images-idx3-ubyte.gz\n",
      "Extracting /tmp/data/t10k-labels-idx1-ubyte.gz\n"
     ]
    }
   ],
   "source": [
    "# Import MINST data\n",
    "from tensorflow.examples.tutorials.mnist import input_data\n",
    "mnist = input_data.read_data_sets(\"/tmp/data/\", one_hot=True)\n",
    "\n",
    "import tensorflow as tf\n",
    "import pickle\n",
    "import numpy as np\n",
    "import json"
   ]
  },
  {
   "cell_type": "code",
   "execution_count": 2,
   "metadata": {
    "collapsed": false,
    "init_cell": true
   },
   "outputs": [],
   "source": [
    "# Parameters\n",
    "learning_rate = 0.001\n",
    "training_epochs = 15\n",
    "batch_size = 100\n",
    "display_step = 1\n",
    "\n",
    "# Network Parameters\n",
    "n_hidden_1 = 256 # 1st layer number of features\n",
    "n_hidden_2 = 256 # 2nd layer number of features\n",
    "n_input = 784 # MNIST data input (img shape: 28*28)\n",
    "n_classes = 10 # MNIST total classes (0-9 digits)\n",
    "\n",
    "# tf Graph input\n",
    "x = tf.placeholder(\"float\", [None, n_input])\n",
    "y = tf.placeholder(\"float\", [None, n_classes])"
   ]
  },
  {
   "cell_type": "code",
   "execution_count": 3,
   "metadata": {
    "collapsed": true,
    "init_cell": true
   },
   "outputs": [],
   "source": [
    "# Create model\n",
    "def multilayer_perceptron(x, weights, biases):\n",
    "    # Hidden layer with RELU activation\n",
    "    layer_1 = tf.add(tf.matmul(x, weights['h1']), biases['b1'])\n",
    "    layer_1 = tf.nn.relu(layer_1)\n",
    "    # Hidden layer with RELU activation\n",
    "    layer_2 = tf.add(tf.matmul(layer_1, weights['h2']), biases['b2'])\n",
    "    layer_2 = tf.nn.relu(layer_2)\n",
    "    # Output layer with linear activation\n",
    "    out_layer = tf.matmul(layer_2, weights['out']) + biases['out']\n",
    "    return out_layer"
   ]
  },
  {
   "cell_type": "code",
   "execution_count": 4,
   "metadata": {
    "collapsed": false,
    "init_cell": false
   },
   "outputs": [],
   "source": [
    "# Store layers weight & bias\n",
    "weights = {\n",
    "    'h1': tf.Variable(tf.random_normal([n_input, n_hidden_1])),\n",
    "    'h2': tf.Variable(tf.random_normal([n_hidden_1, n_hidden_2])),\n",
    "    'out': tf.Variable(tf.random_normal([n_hidden_2, n_classes]))\n",
    "}\n",
    "biases = {\n",
    "    'b1': tf.Variable(tf.random_normal([n_hidden_1])),\n",
    "    'b2': tf.Variable(tf.random_normal([n_hidden_2])),\n",
    "    'out': tf.Variable(tf.random_normal([n_classes]))\n",
    "}\n",
    "\n",
    "# Construct model\n",
    "pred = multilayer_perceptron(x, weights, biases)\n",
    "\n",
    "# Define loss and optimizer\n",
    "cost = tf.reduce_mean(tf.nn.softmax_cross_entropy_with_logits(pred, y))\n",
    "optimizer = tf.train.AdamOptimizer(learning_rate=learning_rate).minimize(cost)\n",
    "\n",
    "# Initializing the variables\n",
    "init = tf.initialize_all_variables()"
   ]
  },
  {
   "cell_type": "code",
   "execution_count": 5,
   "metadata": {
    "collapsed": false
   },
   "outputs": [
    {
     "name": "stdout",
     "output_type": "stream",
     "text": [
      "Epoch: 0001 cost= 135.410127219\n",
      "Epoch: 0002 cost= 37.775751319\n",
      "Epoch: 0003 cost= 23.685810396\n",
      "Epoch: 0004 cost= 16.515553873\n",
      "Epoch: 0005 cost= 12.070945112\n",
      "Epoch: 0006 cost= 8.877823461\n",
      "Epoch: 0007 cost= 6.659058295\n",
      "Epoch: 0008 cost= 4.912391494\n",
      "Epoch: 0009 cost= 3.722857902\n",
      "Epoch: 0010 cost= 2.722692646\n",
      "Epoch: 0011 cost= 2.108964708\n",
      "Epoch: 0012 cost= 1.618718921\n",
      "Epoch: 0013 cost= 1.185002015\n",
      "Epoch: 0014 cost= 0.931349844\n",
      "Epoch: 0015 cost= 0.756758985\n",
      "Optimization Finished!\n",
      "Accuracy: 0.9428\n"
     ]
    }
   ],
   "source": [
    "# Launch the graph\n",
    "with tf.Session() as sess:\n",
    "    sess.run(init)\n",
    "    \n",
    "    # Training cycle\n",
    "    for epoch in range(training_epochs):\n",
    "        avg_cost = 0.\n",
    "        total_batch = int(mnist.train.num_examples/batch_size)\n",
    "        # Loop over all batches\n",
    "        for i in range(total_batch):\n",
    "            batch_x, batch_y = mnist.train.next_batch(batch_size)\n",
    "            # Run optimization op (backprop) and cost op (to get loss value)\n",
    "            _, c = sess.run([optimizer, cost], feed_dict={x: batch_x,\n",
    "                                                          y: batch_y})\n",
    "            # Compute average loss\n",
    "            avg_cost += c / total_batch\n",
    "        # Display logs per epoch step\n",
    "        if epoch % display_step == 0:\n",
    "            print(\"Epoch:\", '%04d' % (epoch+1), \"cost=\", \\\n",
    "                \"{:.9f}\".format(avg_cost))\n",
    "\n",
    "    print(\"Optimization Finished!\")\n",
    "\n",
    "    # Test model\n",
    "    correct_prediction = tf.equal(tf.argmax(pred, 1), tf.argmax(y, 1))\n",
    "    # Calculate accuracy\n",
    "    accuracy = tf.reduce_mean(tf.cast(correct_prediction, \"float\"))\n",
    "    print(\"Accuracy:\", accuracy.eval({x: mnist.test.images, y: mnist.test.labels}))\n",
    "    \n",
    "    # Backup params\n",
    "    trained_weights = sess.run(weights)\n",
    "    trained_biases = sess.run(biases)\n",
    "    \n",
    "pickle.dump((trained_weights, trained_biases), open(\"pickled_params.p\", \"wb\"))"
   ]
  },
  {
   "cell_type": "code",
   "execution_count": 38,
   "metadata": {
    "collapsed": false,
    "scrolled": false
   },
   "outputs": [
    {
     "name": "stdout",
     "output_type": "stream",
     "text": [
      "0. Saved param \"W1\", shape: (256, 784)\n",
      "1. Saved param \"b1\", shape: (256,)\n",
      "2. Saved param \"W2\", shape: (256, 256)\n",
      "3. Saved param \"b2\", shape: (256,)\n",
      "4. Saved param \"Wout\", shape: (10, 256)\n",
      "5. Saved param \"bout\", shape: (10,)\n",
      "6. Saved 328 images, shape: (328, 784)\n",
      "Forward-propagating...\n",
      "Output[:2]:\n",
      "[[ -278.08413696  -902.46453857  -651.06304932  -172.99563599\n",
      "   -187.99516296   341.95431519  1026.09313965  -935.27923584\n",
      "    -95.74211121  -758.58843994]\n",
      " [ -185.55209351  -259.61254883   125.37193298  -147.84118652\n",
      "   1948.20703125  -100.26855469   249.97721863   498.98403931\n",
      "    527.59790039   824.94165039]]\n",
      "Output[:2] maxed:\n",
      "[6, 4]\n",
      "Correct[:2]:\n",
      "[6, 4]\n",
      "7. Saved results, shape: (328, 10)\n"
     ]
    }
   ],
   "source": [
    "### Save parameters, inputs, outputs and targets into JSON files\n",
    "(trained_weights, trained_biases) = pickle.load(open(\"pickled_params.p\", \"wb\"))\n",
    "inputs_total = 328\n",
    "#TODO: uncomment\n",
    "images, targets = mnist.train.next_batch(inputs_total)\n",
    "\n",
    "def SimpleEncode(ndarray):\n",
    "    return json.dumps(ndarray.tolist())\n",
    "\n",
    "param_names = [\"W1\", \"b1\", \"W2\", \"b2\", \"Wout\", \"bout\"]\n",
    "params = [trained_weights['h1'].transpose(), trained_biases['b1'],\n",
    "          trained_weights['h2'].transpose(), trained_biases['b2'],\n",
    "          trained_weights['out'].transpose(), trained_biases['out']]\n",
    "\n",
    "i = 0\n",
    "for param_name in param_names:\n",
    "    print(str(i) + \". Saved param \\\"\" + param_name + \"\\\", shape: \", end='')\n",
    "    json_string = SimpleEncode(params[i].astype(np.float32))\n",
    "    print(params[i].shape)\n",
    "    #%timeit SimpleDecode(json_string)\n",
    "    with open(param_name + '.json', 'w') as outfile:\n",
    "        outfile.write(json_string)\n",
    "        outfile.close\n",
    "    #print(params[i][0])\n",
    "    i = i + 1\n",
    "    \n",
    "# Test images\n",
    "json_string = SimpleEncode(images.astype(np.float32))\n",
    "with open('test_images.json', 'w') as outfile:\n",
    "    outfile.write(json_string)\n",
    "    outfile.close\n",
    "print(str(i) + \". Saved \" + str(inputs_total) + \" images, shape: \", end='')\n",
    "print(images.shape)\n",
    "i = i + 1\n",
    "# Test labels\n",
    "#json_string = SimpleEncode(mnist.test.labels[:inputs_total].astype(np.float32))\n",
    "#with open('test_labels.json', 'w') as outfile:\n",
    "#    outfile.write(json_string)\n",
    "#    outfile.close\n",
    "\n",
    "### Save Tensorflow's forward propagation results into a JSON file\n",
    "print(\"Forward-propagating...\")\n",
    "x = tf.placeholder(\"float\", [None, n_input])\n",
    "\n",
    "# Construct model\n",
    "pred = multilayer_perceptron(x, trained_weights, trained_biases)\n",
    "init = tf.initialize_all_variables()\n",
    "\n",
    "# Launch the graph\n",
    "with tf.Session() as sess:\n",
    "    sess.run(init)\n",
    "    # Produce outputs\n",
    "    result = sess.run([pred], feed_dict={x: images})\n",
    "    \n",
    "# Print results\n",
    "print(\"Output[:2]:\")\n",
    "print(result[0][:2])\n",
    "print(\"Output[:2] maxed:\")\n",
    "print([list(decision).index(max(decision)) for decision in result[0][:2]])\n",
    "print(\"Correct[:2]:\")\n",
    "print([list(decision).index(max(decision)) for decision in targets[0:2]])\n",
    "    \n",
    "# Save results\n",
    "json_string = SimpleEncode(result[0].astype(np.float32))\n",
    "with open('test_tf_results.json', 'w') as outfile:\n",
    "    outfile.write(json_string)\n",
    "    outfile.close\n",
    "print(str(i) + \". Saved results, shape: \", end='')\n",
    "print(result[0].shape)"
   ]
  }
 ],
 "metadata": {
  "celltoolbar": "Initialisation Cell",
  "kernelspec": {
   "display_name": "Python 3",
   "language": "python",
   "name": "python3"
  },
  "language_info": {
   "codemirror_mode": {
    "name": "ipython",
    "version": 3
   },
   "file_extension": ".py",
   "mimetype": "text/x-python",
   "name": "python",
   "nbconvert_exporter": "python",
   "pygments_lexer": "ipython3",
   "version": "3.5.2"
  }
 },
 "nbformat": 4,
 "nbformat_minor": 0
}
