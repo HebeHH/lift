{
 "cells": [
  {
   "cell_type": "code",
   "execution_count": null,
   "metadata": {
    "collapsed": true
   },
   "outputs": [],
   "source": [
    "'''\n",
    "A Multilayer Perceptron implementation example using TensorFlow library.\n",
    "This example is using the MNIST database of handwritten digits\n",
    "(http://yann.lecun.com/exdb/mnist/)\n",
    "\n",
    "Author: Aymeric Damien\n",
    "Project: https://github.com/aymericdamien/TensorFlow-Examples/\n",
    "'''"
   ]
  },
  {
   "cell_type": "code",
   "execution_count": 1,
   "metadata": {
    "collapsed": false,
    "init_cell": true
   },
   "outputs": [
    {
     "name": "stdout",
     "output_type": "stream",
     "text": [
      "Extracting /tmp/data/train-images-idx3-ubyte.gz\n",
      "Extracting /tmp/data/train-labels-idx1-ubyte.gz\n",
      "Extracting /tmp/data/t10k-images-idx3-ubyte.gz\n",
      "Extracting /tmp/data/t10k-labels-idx1-ubyte.gz\n"
     ]
    }
   ],
   "source": [
    "# Import MINST data\n",
    "from tensorflow.examples.tutorials.mnist import input_data\n",
    "mnist = input_data.read_data_sets(\"/tmp/data/\", one_hot=True)\n",
    "\n",
    "import tensorflow as tf"
   ]
  },
  {
   "cell_type": "code",
   "execution_count": 2,
   "metadata": {
    "collapsed": false,
    "init_cell": true
   },
   "outputs": [],
   "source": [
    "# Parameters\n",
    "learning_rate = 0.001\n",
    "training_epochs = 15\n",
    "batch_size = 100\n",
    "display_step = 1\n",
    "\n",
    "# Network Parameters\n",
    "n_hidden_1 = 256 # 1st layer number of features\n",
    "n_hidden_2 = 256 # 2nd layer number of features\n",
    "n_input = 784 # MNIST data input (img shape: 28*28)\n",
    "n_classes = 10 # MNIST total classes (0-9 digits)\n",
    "\n",
    "# tf Graph input\n",
    "x = tf.placeholder(\"float\", [None, n_input])\n",
    "y = tf.placeholder(\"float\", [None, n_classes])"
   ]
  },
  {
   "cell_type": "code",
   "execution_count": 4,
   "metadata": {
    "collapsed": true,
    "init_cell": true
   },
   "outputs": [],
   "source": [
    "# Create model\n",
    "def multilayer_perceptron(x, weights, biases):\n",
    "    # Hidden layer with RELU activation\n",
    "    layer_1 = tf.add(tf.matmul(x, weights['h1']), biases['b1'])\n",
    "    layer_1 = tf.nn.relu(layer_1)\n",
    "    # Hidden layer with RELU activation\n",
    "    layer_2 = tf.add(tf.matmul(layer_1, weights['h2']), biases['b2'])\n",
    "    layer_2 = tf.nn.relu(layer_2)\n",
    "    # Output layer with linear activation\n",
    "    out_layer = tf.matmul(layer_2, weights['out']) + biases['out']\n",
    "    return out_layer"
   ]
  },
  {
   "cell_type": "code",
   "execution_count": 5,
   "metadata": {
    "collapsed": false,
    "init_cell": false
   },
   "outputs": [],
   "source": [
    "# Store layers weight & bias\n",
    "weights = {\n",
    "    'h1': tf.Variable(tf.random_normal([n_input, n_hidden_1])),\n",
    "    'h2': tf.Variable(tf.random_normal([n_hidden_1, n_hidden_2])),\n",
    "    'out': tf.Variable(tf.random_normal([n_hidden_2, n_classes]))\n",
    "}\n",
    "biases = {\n",
    "    'b1': tf.Variable(tf.random_normal([n_hidden_1])),\n",
    "    'b2': tf.Variable(tf.random_normal([n_hidden_2])),\n",
    "    'out': tf.Variable(tf.random_normal([n_classes]))\n",
    "}\n",
    "\n",
    "# Construct model\n",
    "pred = multilayer_perceptron(x, weights, biases)\n",
    "\n",
    "# Define loss and optimizer\n",
    "cost = tf.reduce_mean(tf.nn.softmax_cross_entropy_with_logits(pred, y))\n",
    "optimizer = tf.train.AdamOptimizer(learning_rate=learning_rate).minimize(cost)\n",
    "\n",
    "# Initializing the variables\n",
    "init = tf.initialize_all_variables()"
   ]
  },
  {
   "cell_type": "code",
   "execution_count": 6,
   "metadata": {
    "collapsed": false
   },
   "outputs": [
    {
     "name": "stdout",
     "output_type": "stream",
     "text": [
      "Epoch: 0001 cost= 180.346195384\n",
      "Epoch: 0002 cost= 41.507945387\n",
      "Epoch: 0003 cost= 26.270339645\n",
      "Epoch: 0004 cost= 18.582367012\n",
      "Epoch: 0005 cost= 13.631698751\n",
      "Epoch: 0006 cost= 10.179405432\n",
      "Epoch: 0007 cost= 7.589066988\n",
      "Epoch: 0008 cost= 5.648625531\n",
      "Epoch: 0009 cost= 4.187187531\n",
      "Epoch: 0010 cost= 3.173177188\n",
      "Epoch: 0011 cost= 2.358393707\n",
      "Epoch: 0012 cost= 1.762267673\n",
      "Epoch: 0013 cost= 1.317866627\n",
      "Epoch: 0014 cost= 1.105451876\n",
      "Epoch: 0015 cost= 0.897506789\n",
      "Optimization Finished!\n",
      "Accuracy: 0.9465\n"
     ]
    }
   ],
   "source": [
    "# Launch the graph\n",
    "with tf.Session() as sess:\n",
    "    sess.run(init)\n",
    "    # Training cycle\n",
    "    for epoch in range(training_epochs):\n",
    "        avg_cost = 0.\n",
    "        total_batch = int(mnist.train.num_examples/batch_size)\n",
    "        # Loop over all batches\n",
    "        for i in range(total_batch):\n",
    "            batch_x, batch_y = mnist.train.next_batch(batch_size)\n",
    "            # Run optimization op (backprop) and cost op (to get loss value)\n",
    "            _, c = sess.run([optimizer, cost], feed_dict={x: batch_x,\n",
    "                                                          y: batch_y})\n",
    "            # Compute average loss\n",
    "            avg_cost += c / total_batch\n",
    "        # Display logs per epoch step\n",
    "        if epoch % display_step == 0:\n",
    "            print(\"Epoch:\", '%04d' % (epoch+1), \"cost=\", \\\n",
    "                \"{:.9f}\".format(avg_cost))\n",
    "    print(\"Optimization Finished!\")\n",
    "\n",
    "    # Test model\n",
    "    correct_prediction = tf.equal(tf.argmax(pred, 1), tf.argmax(y, 1))\n",
    "    # Calculate accuracy\n",
    "    accuracy = tf.reduce_mean(tf.cast(correct_prediction, \"float\"))\n",
    "    print(\"Accuracy:\", accuracy.eval({x: mnist.test.images, y: mnist.test.labels}))\n",
    "    \n",
    "    # Backup params\n",
    "    trained_weights = sess.run(weights)\n",
    "    trained_biases = sess.run(biases)"
   ]
  },
  {
   "cell_type": "code",
   "execution_count": 7,
   "metadata": {
    "collapsed": false,
    "scrolled": false
   },
   "outputs": [
    {
     "name": "stdout",
     "output_type": "stream",
     "text": [
      "0. Saved param \"W1\", shape: (256, 784)\n",
      "1. Saved param \"b1\", shape: (256,)\n",
      "2. Saved param \"W2\", shape: (256, 256)\n",
      "3. Saved param \"b2\", shape: (256,)\n",
      "4. Saved param \"Wout\", shape: (10, 256)\n",
      "5. Saved param \"bout\", shape: (10,)\n",
      "6. Saved 328 images, shape: (328, 784)\n",
      "Forward-propagating...\n",
      "Output[:2]:\n",
      "[[ -1.06312305e+03  -4.20236420e+02   2.69117737e+02   5.92790222e+02\n",
      "    1.67558972e+03   4.27382080e+02  -2.37833069e+02   1.00675531e+03\n",
      "    5.74043030e+02   1.08903528e+03]\n",
      " [ -3.52038757e+02  -9.21647034e+01   2.59646515e+02  -2.41410828e+02\n",
      "    8.38351562e+02   4.89633026e+02   7.18455887e+01   3.11856934e+02\n",
      "   -1.28852558e+00   3.68855286e+02]]\n",
      "Output[:2] maxed:\n",
      "[4, 4]\n",
      "Correct[:2]:\n",
      "[4, 4]\n",
      "7. Saved results, shape: (328, 10)\n"
     ]
    }
   ],
   "source": [
    "### Save parameters, inputs, outputs and targets into JSON files\n",
    "import numpy as np\n",
    "import json\n",
    "\n",
    "inputs_total = 328\n",
    "#TODO: uncomment\n",
    "images, targets = mnist.train.next_batch(inputs_total)\n",
    "\n",
    "def SimpleEncode(ndarray):\n",
    "    return json.dumps(ndarray.tolist())\n",
    "#def SimpleDecode(jsonDump):\n",
    "#    return np.array(json.loads(jsonDump))\n",
    "\n",
    "param_names = [\"W1\", \"b1\", \"W2\", \"b2\", \"Wout\", \"bout\"]\n",
    "params = [trained_weights['h1'].transpose(), trained_biases['b1'],\n",
    "          trained_weights['h2'].transpose(), trained_biases['b2'],\n",
    "          trained_weights['out'].transpose(), trained_biases['out']]\n",
    "\n",
    "i = 0\n",
    "for param_name in param_names:\n",
    "    print(str(i) + \". Saved param \\\"\" + param_name + \"\\\", shape: \", end='')\n",
    "    json_string = SimpleEncode(params[i].astype(np.float32))\n",
    "    print(params[i].shape)\n",
    "    #%timeit SimpleDecode(json_string)\n",
    "    with open(param_name + '.json', 'w') as outfile:\n",
    "        outfile.write(json_string)\n",
    "        outfile.close\n",
    "    #print(params[i][0])\n",
    "    i = i + 1\n",
    "    \n",
    "# Test images\n",
    "json_string = SimpleEncode(images.astype(np.float32))\n",
    "with open('test_images.json', 'w') as outfile:\n",
    "    outfile.write(json_string)\n",
    "    outfile.close\n",
    "print(str(i) + \". Saved \" + str(inputs_total) + \" images, shape: \", end='')\n",
    "print(images.shape)\n",
    "i = i + 1\n",
    "# Test labels\n",
    "#json_string = SimpleEncode(mnist.test.labels[:inputs_total].astype(np.float32))\n",
    "#with open('test_labels.json', 'w') as outfile:\n",
    "#    outfile.write(json_string)\n",
    "#    outfile.close\n",
    "\n",
    "### Save Tensorflow's forward propagation results into a JSON file\n",
    "print(\"Forward-propagating...\")\n",
    "x = tf.placeholder(\"float\", [None, n_input])\n",
    "\n",
    "# Construct model\n",
    "pred = multilayer_perceptron(x, trained_weights, trained_biases)\n",
    "init = tf.initialize_all_variables()\n",
    "\n",
    "# Launch the graph\n",
    "with tf.Session() as sess:\n",
    "    sess.run(init)\n",
    "    # Produce outputs\n",
    "    result = sess.run([pred], feed_dict={x: images})\n",
    "    \n",
    "# Print results\n",
    "print(\"Output[:2]:\")\n",
    "print(result[0][:2])\n",
    "print(\"Output[:2] maxed:\")\n",
    "print([list(decision).index(max(decision)) for decision in result[0][:2]])\n",
    "print(\"Correct[:2]:\")\n",
    "print([list(decision).index(max(decision)) for decision in targets[0:2]])\n",
    "    \n",
    "# Save results\n",
    "json_string = SimpleEncode(result[0].astype(np.float32))\n",
    "with open('test_tf_results.json', 'w') as outfile:\n",
    "    outfile.write(json_string)\n",
    "    outfile.close\n",
    "print(str(i) + \". Saved results, shape: \", end='')\n",
    "print(result[0].shape)"
   ]
  }
 ],
 "metadata": {
  "celltoolbar": "Initialisation Cell",
  "kernelspec": {
   "display_name": "Python 3",
   "language": "python",
   "name": "python3"
  },
  "language_info": {
   "codemirror_mode": {
    "name": "ipython",
    "version": 3
   },
   "file_extension": ".py",
   "mimetype": "text/x-python",
   "name": "python",
   "nbconvert_exporter": "python",
   "pygments_lexer": "ipython3",
   "version": "3.5.2"
  }
 },
 "nbformat": 4,
 "nbformat_minor": 0
}
