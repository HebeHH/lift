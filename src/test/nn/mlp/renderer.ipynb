{
 "cells": [
  {
   "cell_type": "code",
   "execution_count": 195,
   "metadata": {
    "collapsed": false
   },
   "outputs": [],
   "source": [
    "import numpy as np\n",
    "\n",
    "experiment_configs = [{\"device_name\": [\"GeForce GTX TITAN Black\"],\n",
    "                       \"f_name\": [\"f_layer_complex_neuron_mrgd_wrgs_in_2d\"],\n",
    "                       \"n_neurons_l0\": np.arange(32, 1024, 32),\n",
    "                       \"n_inputs\": np.arange(32, 1024, 32),\n",
    "                       \"mults_per_thread\": [1],\n",
    "                       \"neurons_per_wrg\": [1]}]\n",
    "\n",
    "def get(key, arr):\n",
    "    return np.asarray([dict_el[key] for dict_el in arr])"
   ]
  },
  {
   "cell_type": "code",
   "execution_count": 464,
   "metadata": {
    "collapsed": false,
    "scrolled": false
   },
   "outputs": [
    {
     "name": "stdout",
     "output_type": "stream",
     "text": [
      "..........................................................................................\n",
      "1812 non-filtered results.\n",
      "414 filtered results for experiment 0:\n",
      "               device_name                                  f_name  n_inputs  \\\n",
      "2  GeForce GTX TITAN Black  f_layer_complex_neuron_mrgd_wrgs_in_2d        32   \n",
      "6  GeForce GTX TITAN Black  f_layer_complex_neuron_mrgd_wrgs_in_2d        64   \n",
      "\n",
      "   mults_per_thread  neurons_per_wrg  layer_len0  layer_len1  layer_len2  \\\n",
      "2                 1                1          32          32          10   \n",
      "6                 1                1          32          32          10   \n",
      "\n",
      "  activation_f0 activation_f1 activation_f2  runtime_l0  runtime_l1  \\\n",
      "2          ReLU          ReLU            id     0.36019     0.01126   \n",
      "6          ReLU          ReLU            id     0.71053     0.01366   \n",
      "\n",
      "   runtime_l2                 datetime  n_neurons_l0  \n",
      "2     0.01370  14.07.2016-04.47.47.932            32  \n",
      "6     0.00813  14.07.2016-04.47.51.556            32  \n",
      "Loaded 1 experiment(s):\n",
      "Experiment 0: 414 records\n"
     ]
    }
   ],
   "source": [
    "import os\n",
    "import pprint\n",
    "import pandas as pd\n",
    "\n",
    "def load_experiments():\n",
    "    #experiment_dir = \"experiment.\" + network_config\n",
    "    results_lift = None\n",
    "    i = 0\n",
    "    for experiment_dir in filter(\n",
    "        lambda x: os.path.isdir(os.path.join(\".\", x)) and \n",
    "        x.startswith(\"experiment.\") and \n",
    "        os.path.isdir(os.path.join(\".\", x, \"results_lift\")), \n",
    "        os.listdir(\".\")):\n",
    "        results_lift_dir = os.path.join(\".\", experiment_dir, \"results_lift\")\n",
    "\n",
    "        for filename in os.listdir(results_lift_dir):\n",
    "            single_csv = pd.read_csv(os.path.join(results_lift_dir, filename), index_col=False)\n",
    "            single_csv[\"datetime\"] = filename[:filename.find(\"_\")]\n",
    "            single_csv[\"n_neurons_l0\"] = int(experiment_dir[15:experiment_dir.find(\"-\", 15)])\n",
    "            if results_lift is not None:\n",
    "                results_lift = results_lift.append(single_csv, ignore_index=True)                \n",
    "            else:\n",
    "                results_lift = single_csv\n",
    "            i = i + 1\n",
    "            if i % 20 == 0:\n",
    "                print(\".\", end=\"\")\n",
    "    print()\n",
    "    return results_lift\n",
    "\n",
    "def matches(result, config):\n",
    "    for (key, allowed_values) in config.items():\n",
    "        if key in result and (\n",
    "            (isinstance(result[key], float) and result[key] in allowed_values) or\n",
    "            (isinstance(result[key], str) and result[key] in \n",
    "                 [value.replace(\"\\x00\",\"\") for value in allowed_values])):\n",
    "            next\n",
    "        else:\n",
    "            return False\n",
    "    return True\n",
    "\n",
    "def filter_experiments(experiment_configs, nonfiltered_results):\n",
    "    results = []\n",
    "    for config in experiment_configs:\n",
    "        results.append(nonfiltered_results[np.all([\n",
    "                        nonfiltered_results[k].isin(vs) for k, vs in config.items()], axis=0)])\n",
    "        #results.append([result for result in nonfiltered_results if matches(result, config)])\n",
    "    return results\n",
    "\n",
    "nonfiltered_results = load_experiments()\n",
    "\n",
    "results = filter_experiments(experiment_configs, nonfiltered_results)\n",
    "data_is_reset = True\n",
    "print(\"%d non-filtered results.\" % len(nonfiltered_results))\n",
    "#pp.pprint(nonfiltered_results)\n",
    "print(\"%d filtered results for experiment 0:\" % len(results[0]))\n",
    "print(results[0][0:2])\n",
    "\n",
    "print(\"Loaded \" + str(len(results)) + \" experiment(s):\")\n",
    "for exp_i in range(len(results)):\n",
    "    print(\"Experiment \" + str(exp_i) + \": \" + str(len(results[exp_i])) + \" records\")\n",
    "    \n",
    "# results_folded = []\n",
    "# for exp_i in range(len(results)):\n",
    "#     ipn = results[exp_i].loc[[0]][\"n_inputs\"] / results[exp_i].loc[[0]][\"layer_len1\"]\n",
    "#     ipnps_l0 = ipn / results[\"runtime_l0\"]\n",
    "#     ipnps_l1 = ipn / get(\"runtime_l1\", results[exp_i])\n",
    "#     ipnps_l2 = ipn / get(\"runtime_l2\", results[exp_i])\n",
    "#     results_folded.append(\n",
    "#         {\"ipnps_mean_l0\": np.mean(ipnps_l0),\n",
    "#          \"ipnps_std_l0\": np.std(ipnps_l0),\n",
    "#          \"ipnps_mean_l1\": np.mean(ipnps_l1),\n",
    "#          \"ipnps_std_l1\": np.std(ipnps_l1)})\n",
    "\n",
    "# pp.pprint(results_folded)"
   ]
  },
  {
   "cell_type": "code",
   "execution_count": 466,
   "metadata": {
    "collapsed": false
   },
   "outputs": [],
   "source": [
    "# Format data\n",
    "if data_is_reset:\n",
    "    # Runtimes: s -> ms\n",
    "    original_status = pd.options.mode.chained_assignment\n",
    "    pd.options.mode.chained_assignment = None\n",
    "    for result in results:\n",
    "        result.loc[:, \"runtime_l0\"] = result[\"runtime_l0\"].apply(lambda x: x * 1000)\n",
    "        result.loc[:, \"runtime_l1\"] = result[\"runtime_l1\"].apply(lambda x: x * 1000)\n",
    "        result.loc[:, \"runtime_l2\"] = result[\"runtime_l2\"].apply(lambda x: x * 1000)\n",
    "    pd.options.mode.chained_assignment = original_status\n",
    "    print (\"Data was formatted.\")\n",
    "    data_is_reset = False"
   ]
  },
  {
   "cell_type": "code",
   "execution_count": 470,
   "metadata": {
    "collapsed": true
   },
   "outputs": [],
   "source": [
    "def ipnps(df):\n",
    "    if df.empty:\n",
    "        return 0\n",
    "    else:\n",
    "        return df[\"n_inputs\"] / (df[\"layer_len1\"] * df[\"runtime_l0\"])"
   ]
  },
  {
   "cell_type": "code",
   "execution_count": 471,
   "metadata": {
    "collapsed": false
   },
   "outputs": [
    {
     "name": "stdout",
     "output_type": "stream",
     "text": [
      "......................................................................................................................................................................................................................................................................................................................................................................................................................................................................................................................................................................................................................................................................................................................................................................................................................................................................................................................................................................................................................................................................................................................................................................................................................................................................................................................................................................................................................................................................................................................................................................................................................................................................................................................................................................................................................................................................\n",
      "[[ 0.00277367  0.00281925  0.00283782 ...,  0.          0.          0.        ]\n",
      " [ 0.00149075  0.0014274   0.00143282 ...,  0.          0.          0.        ]\n",
      " [ 0.          0.          0.         ...,  0.          0.          0.        ]\n",
      " ..., \n",
      " [ 0.          0.          0.         ...,  0.          0.          0.        ]\n",
      " [ 0.          0.          0.         ...,  0.          0.          0.        ]\n",
      " [ 0.          0.          0.         ...,  0.          0.          0.        ]]\n",
      "Matrix shape: (59, 32)\n",
      "Data prepared.\n"
     ]
    }
   ],
   "source": [
    "# Prepares data\n",
    "experiment = results[0]\n",
    "\n",
    "n_n_neurons = int(1024 / 32 - 1)\n",
    "n_n_inputs = int(1888 / 32 - 1)\n",
    "matrix = np.zeros((n_n_neurons, n_n_inputs), dtype=np.float32)\n",
    "for n_neurons in np.arange(n_n_neurons):\n",
    "    for n_inputs in np.arange(n_n_inputs):\n",
    "        matrix[n_neurons, n_inputs] = np.nan_to_num(\n",
    "            experiment[(experiment[\"layer_len0\"] == 32 + n_neurons * 32) &\n",
    "                       (experiment[\"n_inputs\"] == 32 + n_inputs * 32)]\\\n",
    "            [[\"n_inputs\", \"layer_len1\", \"runtime_l0\"]]\\\n",
    "            .apply(ipnps, axis=1).mean())\n",
    "        print(\".\", end=\"\")\n",
    "print()\n",
    "matrix2 = np.zeros((matrix.shape[0] + 1, matrix.shape[1] + 1))\n",
    "matrix2[1:, 1:] = matrix[:, :]\n",
    "matrix = matrix2.transpose()\n",
    "print(\"Matrix shape:\", matrix.shape)\n",
    "print(\"Data prepared.\")"
   ]
  },
  {
   "cell_type": "code",
   "execution_count": 472,
   "metadata": {
    "collapsed": false
   },
   "outputs": [
    {
     "data": {
      "image/png": "[encoded data removed]",
      "text/plain": [
       "<matplotlib.figure.Figure at 0x7ff11a56fac8>"
      ]
     },
     "metadata": {},
     "output_type": "display_data"
    }
   ],
   "source": [
    "# Renders the plot\n",
    "fig, ax = plt.subplots()\n",
    "heatmap = ax.pcolor(matrix, cmap=plt.cm.Blues, alpha=0.8)\n",
    "ax.set_title('Title: TODO')\n",
    "ax.set_xlabel('Layer size, in neurons')\n",
    "ax.set_ylabel('Number of input patterns')\n",
    "ax.set_xticks(np.arange(1, n_n_neurons, 2))\n",
    "ax.set_xticklabels(np.arange(32, 1024, 32 * 2))\n",
    "ax.set_yticks(np.arange(1, n_n_inputs, 2))\n",
    "ax.set_yticklabels(np.arange(32, 1888, 32 * 2))\n",
    "\n",
    "# Format\n",
    "fig = plt.gcf()\n",
    "fig.set_size_inches(8, 11)\n",
    "# turn off the frame\n",
    "ax.set_frame_on(False)\n",
    "# print(experiment.as_matrix(columns=[\"n_inputs\"]))\n",
    "# print(experiment.as_matrix(columns=[\"runtime_l0\"]))"
   ]
  },
  {
   "cell_type": "code",
   "execution_count": null,
   "metadata": {
    "collapsed": true
   },
   "outputs": [],
   "source": []
  }
 ],
 "metadata": {
  "kernelspec": {
   "display_name": "Python 3",
   "language": "python",
   "name": "python3"
  },
  "language_info": {
   "codemirror_mode": {
    "name": "ipython",
    "version": 3
   },
   "file_extension": ".py",
   "mimetype": "text/x-python",
   "name": "python",
   "nbconvert_exporter": "python",
   "pygments_lexer": "ipython3",
   "version": "3.5.2"
  }
 },
 "nbformat": 4,
 "nbformat_minor": 0
}
